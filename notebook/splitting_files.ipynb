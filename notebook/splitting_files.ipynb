{
 "cells": [
  {
   "cell_type": "code",
   "execution_count": 4,
   "metadata": {
    "collapsed": true,
    "ExecuteTime": {
     "end_time": "2023-12-09T01:58:22.092279Z",
     "start_time": "2023-12-09T01:58:07.300572Z"
    }
   },
   "outputs": [],
   "source": [
    "import pandas as pd"
   ]
  },
  {
   "cell_type": "code",
   "execution_count": 5,
   "outputs": [],
   "source": [
    "df_master = pd.read_csv(\"../data/customer_churn_records.csv\")\n",
    "df = df_master.copy()"
   ],
   "metadata": {
    "collapsed": false,
    "ExecuteTime": {
     "end_time": "2023-12-09T01:58:25.889999Z",
     "start_time": "2023-12-09T01:58:25.855078Z"
    }
   }
  },
  {
   "cell_type": "code",
   "execution_count": 6,
   "outputs": [
    {
     "data": {
      "text/plain": "   RowNumber  CustomerId   Surname  CreditScore Geography  Gender  Age  \\\n0          1    15634602  Hargrave          619    France  Female   42   \n1          2    15647311      Hill          608     Spain  Female   41   \n2          3    15619304      Onio          502    France  Female   42   \n3          4    15701354      Boni          699    France  Female   39   \n4          5    15737888  Mitchell          850     Spain  Female   43   \n\n   Tenure    Balance  NumOfProducts  HasCrCard  IsActiveMember  \\\n0       2       0.00              1          1               1   \n1       1   83807.86              1          0               1   \n2       8  159660.80              3          1               0   \n3       1       0.00              2          0               0   \n4       2  125510.82              1          1               1   \n\n   EstimatedSalary  Exited  Complain  SatisfactionScore CardType  PointEarned  \n0        101348.88       1         1                  2  DIAMOND          464  \n1        112542.58       0         1                  3  DIAMOND          456  \n2        113931.57       1         1                  3  DIAMOND          377  \n3         93826.63       0         0                  5     GOLD          350  \n4         79084.10       0         0                  5     GOLD          425  ",
      "text/html": "<div>\n<style scoped>\n    .dataframe tbody tr th:only-of-type {\n        vertical-align: middle;\n    }\n\n    .dataframe tbody tr th {\n        vertical-align: top;\n    }\n\n    .dataframe thead th {\n        text-align: right;\n    }\n</style>\n<table border=\"1\" class=\"dataframe\">\n  <thead>\n    <tr style=\"text-align: right;\">\n      <th></th>\n      <th>RowNumber</th>\n      <th>CustomerId</th>\n      <th>Surname</th>\n      <th>CreditScore</th>\n      <th>Geography</th>\n      <th>Gender</th>\n      <th>Age</th>\n      <th>Tenure</th>\n      <th>Balance</th>\n      <th>NumOfProducts</th>\n      <th>HasCrCard</th>\n      <th>IsActiveMember</th>\n      <th>EstimatedSalary</th>\n      <th>Exited</th>\n      <th>Complain</th>\n      <th>SatisfactionScore</th>\n      <th>CardType</th>\n      <th>PointEarned</th>\n    </tr>\n  </thead>\n  <tbody>\n    <tr>\n      <th>0</th>\n      <td>1</td>\n      <td>15634602</td>\n      <td>Hargrave</td>\n      <td>619</td>\n      <td>France</td>\n      <td>Female</td>\n      <td>42</td>\n      <td>2</td>\n      <td>0.00</td>\n      <td>1</td>\n      <td>1</td>\n      <td>1</td>\n      <td>101348.88</td>\n      <td>1</td>\n      <td>1</td>\n      <td>2</td>\n      <td>DIAMOND</td>\n      <td>464</td>\n    </tr>\n    <tr>\n      <th>1</th>\n      <td>2</td>\n      <td>15647311</td>\n      <td>Hill</td>\n      <td>608</td>\n      <td>Spain</td>\n      <td>Female</td>\n      <td>41</td>\n      <td>1</td>\n      <td>83807.86</td>\n      <td>1</td>\n      <td>0</td>\n      <td>1</td>\n      <td>112542.58</td>\n      <td>0</td>\n      <td>1</td>\n      <td>3</td>\n      <td>DIAMOND</td>\n      <td>456</td>\n    </tr>\n    <tr>\n      <th>2</th>\n      <td>3</td>\n      <td>15619304</td>\n      <td>Onio</td>\n      <td>502</td>\n      <td>France</td>\n      <td>Female</td>\n      <td>42</td>\n      <td>8</td>\n      <td>159660.80</td>\n      <td>3</td>\n      <td>1</td>\n      <td>0</td>\n      <td>113931.57</td>\n      <td>1</td>\n      <td>1</td>\n      <td>3</td>\n      <td>DIAMOND</td>\n      <td>377</td>\n    </tr>\n    <tr>\n      <th>3</th>\n      <td>4</td>\n      <td>15701354</td>\n      <td>Boni</td>\n      <td>699</td>\n      <td>France</td>\n      <td>Female</td>\n      <td>39</td>\n      <td>1</td>\n      <td>0.00</td>\n      <td>2</td>\n      <td>0</td>\n      <td>0</td>\n      <td>93826.63</td>\n      <td>0</td>\n      <td>0</td>\n      <td>5</td>\n      <td>GOLD</td>\n      <td>350</td>\n    </tr>\n    <tr>\n      <th>4</th>\n      <td>5</td>\n      <td>15737888</td>\n      <td>Mitchell</td>\n      <td>850</td>\n      <td>Spain</td>\n      <td>Female</td>\n      <td>43</td>\n      <td>2</td>\n      <td>125510.82</td>\n      <td>1</td>\n      <td>1</td>\n      <td>1</td>\n      <td>79084.10</td>\n      <td>0</td>\n      <td>0</td>\n      <td>5</td>\n      <td>GOLD</td>\n      <td>425</td>\n    </tr>\n  </tbody>\n</table>\n</div>"
     },
     "execution_count": 6,
     "metadata": {},
     "output_type": "execute_result"
    }
   ],
   "source": [
    "df.head()"
   ],
   "metadata": {
    "collapsed": false,
    "ExecuteTime": {
     "end_time": "2023-12-09T01:58:28.843713Z",
     "start_time": "2023-12-09T01:58:28.820010Z"
    }
   }
  },
  {
   "cell_type": "code",
   "execution_count": 7,
   "outputs": [
    {
     "data": {
      "text/plain": "      RowNumber  CustomerId   Surname  CreditScore Geography  Gender  Age  \\\n2981       2982    15711218     Parry          616   Germany    Male   39   \n7352       7353    15809800  Korovina          726    France  Female   38   \n8088       8089    15815656   Hopkins          541   Germany  Female   39   \n5824       5825    15698953      Hart          636     Spain    Male   36   \n2816       2817    15619280  Uspensky          683    France    Male   25   \n\n      Tenure    Balance  NumOfProducts  HasCrCard  IsActiveMember  \\\n2981       2  121704.32              2          1               0   \n7352       4       0.00              2          0               0   \n8088       9  100116.67              1          1               1   \n5824       1       0.00              3          1               1   \n2816       4       0.00              2          1               0   \n\n      EstimatedSalary  Exited  Complain  SatisfactionScore  CardType  \\\n2981         55556.30       0         0                  4  PLATINUM   \n7352          6787.48       0         0                  5   DIAMOND   \n8088        199808.10       1         1                  2      GOLD   \n5824         74048.10       1         1                  5   DIAMOND   \n2816        152698.24       0         0                  3  PLATINUM   \n\n      PointEarned  \n2981          346  \n7352          523  \n8088          635  \n5824          244  \n2816          637  ",
      "text/html": "<div>\n<style scoped>\n    .dataframe tbody tr th:only-of-type {\n        vertical-align: middle;\n    }\n\n    .dataframe tbody tr th {\n        vertical-align: top;\n    }\n\n    .dataframe thead th {\n        text-align: right;\n    }\n</style>\n<table border=\"1\" class=\"dataframe\">\n  <thead>\n    <tr style=\"text-align: right;\">\n      <th></th>\n      <th>RowNumber</th>\n      <th>CustomerId</th>\n      <th>Surname</th>\n      <th>CreditScore</th>\n      <th>Geography</th>\n      <th>Gender</th>\n      <th>Age</th>\n      <th>Tenure</th>\n      <th>Balance</th>\n      <th>NumOfProducts</th>\n      <th>HasCrCard</th>\n      <th>IsActiveMember</th>\n      <th>EstimatedSalary</th>\n      <th>Exited</th>\n      <th>Complain</th>\n      <th>SatisfactionScore</th>\n      <th>CardType</th>\n      <th>PointEarned</th>\n    </tr>\n  </thead>\n  <tbody>\n    <tr>\n      <th>2981</th>\n      <td>2982</td>\n      <td>15711218</td>\n      <td>Parry</td>\n      <td>616</td>\n      <td>Germany</td>\n      <td>Male</td>\n      <td>39</td>\n      <td>2</td>\n      <td>121704.32</td>\n      <td>2</td>\n      <td>1</td>\n      <td>0</td>\n      <td>55556.30</td>\n      <td>0</td>\n      <td>0</td>\n      <td>4</td>\n      <td>PLATINUM</td>\n      <td>346</td>\n    </tr>\n    <tr>\n      <th>7352</th>\n      <td>7353</td>\n      <td>15809800</td>\n      <td>Korovina</td>\n      <td>726</td>\n      <td>France</td>\n      <td>Female</td>\n      <td>38</td>\n      <td>4</td>\n      <td>0.00</td>\n      <td>2</td>\n      <td>0</td>\n      <td>0</td>\n      <td>6787.48</td>\n      <td>0</td>\n      <td>0</td>\n      <td>5</td>\n      <td>DIAMOND</td>\n      <td>523</td>\n    </tr>\n    <tr>\n      <th>8088</th>\n      <td>8089</td>\n      <td>15815656</td>\n      <td>Hopkins</td>\n      <td>541</td>\n      <td>Germany</td>\n      <td>Female</td>\n      <td>39</td>\n      <td>9</td>\n      <td>100116.67</td>\n      <td>1</td>\n      <td>1</td>\n      <td>1</td>\n      <td>199808.10</td>\n      <td>1</td>\n      <td>1</td>\n      <td>2</td>\n      <td>GOLD</td>\n      <td>635</td>\n    </tr>\n    <tr>\n      <th>5824</th>\n      <td>5825</td>\n      <td>15698953</td>\n      <td>Hart</td>\n      <td>636</td>\n      <td>Spain</td>\n      <td>Male</td>\n      <td>36</td>\n      <td>1</td>\n      <td>0.00</td>\n      <td>3</td>\n      <td>1</td>\n      <td>1</td>\n      <td>74048.10</td>\n      <td>1</td>\n      <td>1</td>\n      <td>5</td>\n      <td>DIAMOND</td>\n      <td>244</td>\n    </tr>\n    <tr>\n      <th>2816</th>\n      <td>2817</td>\n      <td>15619280</td>\n      <td>Uspensky</td>\n      <td>683</td>\n      <td>France</td>\n      <td>Male</td>\n      <td>25</td>\n      <td>4</td>\n      <td>0.00</td>\n      <td>2</td>\n      <td>1</td>\n      <td>0</td>\n      <td>152698.24</td>\n      <td>0</td>\n      <td>0</td>\n      <td>3</td>\n      <td>PLATINUM</td>\n      <td>637</td>\n    </tr>\n  </tbody>\n</table>\n</div>"
     },
     "execution_count": 7,
     "metadata": {},
     "output_type": "execute_result"
    }
   ],
   "source": [
    "df_sample = df.sample(100)\n",
    "df_sample.head()"
   ],
   "metadata": {
    "collapsed": false,
    "ExecuteTime": {
     "end_time": "2023-12-09T01:58:35.192564Z",
     "start_time": "2023-12-09T01:58:35.174167Z"
    }
   }
  },
  {
   "cell_type": "code",
   "execution_count": 8,
   "outputs": [],
   "source": [
    "for i in range(10):\n",
    "    df_sample_1 = df.sample(100)\n",
    "    df_sample_1.to_csv(f'../data/Folder A/customers_file_{i+1}.csv', index=False)"
   ],
   "metadata": {
    "collapsed": false,
    "ExecuteTime": {
     "end_time": "2023-12-09T01:58:50.821979Z",
     "start_time": "2023-12-09T01:58:50.790503Z"
    }
   }
  },
  {
   "cell_type": "code",
   "execution_count": 9,
   "outputs": [
    {
     "data": {
      "text/plain": "   RowNumber  CustomerId      Surname  CreditScore Geography  Gender  Age  \\\n0       9627    15665158  Chukwuemeka          813     Spain    Male   27   \n1       1582    15576517   Everingham          445   Germany  Female   34   \n2       1916    15769051         Shaw          503     Spain    Male   25   \n3       2526    15738411           Ho          505    France    Male   34   \n4       6330    15661198       Howard          727   Germany    Male   34   \n5       5620    15648951          Kao          785     Spain    Male   41   \n6       3843    15717185      Udinese          711    France    Male   28   \n7       8190    15613292       Ch'eng          715    France    Male   21   \n8       6041    15735358        Dowse          682     Spain    Male   46   \n9       1484    15790683     Matthews          850    France    Male   36   \n\n   Tenure    Balance  NumOfProducts  HasCrCard  IsActiveMember  \\\n0       1  137275.36              1          0               1   \n1       7  131082.17              2          1               1   \n2       7       0.00              1          0               1   \n3      10  104498.79              1          0               1   \n4       2  146407.11              1          1               1   \n5       7       0.00              2          1               1   \n6       8       0.00              2          1               1   \n7       8       0.00              2          1               0   \n8       4       0.00              1          1               1   \n9       1  104077.19              2          0               1   \n\n   EstimatedSalary  Exited  Complain  SatisfactionScore  CardType  PointEarned  \n0        115733.16       0         0                  2  PLATINUM          799  \n1         70618.00       0         0                  4  PLATINUM          802  \n2        192841.13       0         0                  1    SILVER          417  \n3        126451.14       0         0                  3   DIAMOND          244  \n4         72073.72       0         0                  2      GOLD          647  \n5        199108.88       0         0                  5    SILVER          681  \n6         64286.39       0         0                  2      GOLD          997  \n7         68666.63       0         0                  2  PLATINUM          827  \n8          4654.28       0         0                  5    SILVER          221  \n9         68594.00       0         0                  1   DIAMOND          388  ",
      "text/html": "<div>\n<style scoped>\n    .dataframe tbody tr th:only-of-type {\n        vertical-align: middle;\n    }\n\n    .dataframe tbody tr th {\n        vertical-align: top;\n    }\n\n    .dataframe thead th {\n        text-align: right;\n    }\n</style>\n<table border=\"1\" class=\"dataframe\">\n  <thead>\n    <tr style=\"text-align: right;\">\n      <th></th>\n      <th>RowNumber</th>\n      <th>CustomerId</th>\n      <th>Surname</th>\n      <th>CreditScore</th>\n      <th>Geography</th>\n      <th>Gender</th>\n      <th>Age</th>\n      <th>Tenure</th>\n      <th>Balance</th>\n      <th>NumOfProducts</th>\n      <th>HasCrCard</th>\n      <th>IsActiveMember</th>\n      <th>EstimatedSalary</th>\n      <th>Exited</th>\n      <th>Complain</th>\n      <th>SatisfactionScore</th>\n      <th>CardType</th>\n      <th>PointEarned</th>\n    </tr>\n  </thead>\n  <tbody>\n    <tr>\n      <th>0</th>\n      <td>9627</td>\n      <td>15665158</td>\n      <td>Chukwuemeka</td>\n      <td>813</td>\n      <td>Spain</td>\n      <td>Male</td>\n      <td>27</td>\n      <td>1</td>\n      <td>137275.36</td>\n      <td>1</td>\n      <td>0</td>\n      <td>1</td>\n      <td>115733.16</td>\n      <td>0</td>\n      <td>0</td>\n      <td>2</td>\n      <td>PLATINUM</td>\n      <td>799</td>\n    </tr>\n    <tr>\n      <th>1</th>\n      <td>1582</td>\n      <td>15576517</td>\n      <td>Everingham</td>\n      <td>445</td>\n      <td>Germany</td>\n      <td>Female</td>\n      <td>34</td>\n      <td>7</td>\n      <td>131082.17</td>\n      <td>2</td>\n      <td>1</td>\n      <td>1</td>\n      <td>70618.00</td>\n      <td>0</td>\n      <td>0</td>\n      <td>4</td>\n      <td>PLATINUM</td>\n      <td>802</td>\n    </tr>\n    <tr>\n      <th>2</th>\n      <td>1916</td>\n      <td>15769051</td>\n      <td>Shaw</td>\n      <td>503</td>\n      <td>Spain</td>\n      <td>Male</td>\n      <td>25</td>\n      <td>7</td>\n      <td>0.00</td>\n      <td>1</td>\n      <td>0</td>\n      <td>1</td>\n      <td>192841.13</td>\n      <td>0</td>\n      <td>0</td>\n      <td>1</td>\n      <td>SILVER</td>\n      <td>417</td>\n    </tr>\n    <tr>\n      <th>3</th>\n      <td>2526</td>\n      <td>15738411</td>\n      <td>Ho</td>\n      <td>505</td>\n      <td>France</td>\n      <td>Male</td>\n      <td>34</td>\n      <td>10</td>\n      <td>104498.79</td>\n      <td>1</td>\n      <td>0</td>\n      <td>1</td>\n      <td>126451.14</td>\n      <td>0</td>\n      <td>0</td>\n      <td>3</td>\n      <td>DIAMOND</td>\n      <td>244</td>\n    </tr>\n    <tr>\n      <th>4</th>\n      <td>6330</td>\n      <td>15661198</td>\n      <td>Howard</td>\n      <td>727</td>\n      <td>Germany</td>\n      <td>Male</td>\n      <td>34</td>\n      <td>2</td>\n      <td>146407.11</td>\n      <td>1</td>\n      <td>1</td>\n      <td>1</td>\n      <td>72073.72</td>\n      <td>0</td>\n      <td>0</td>\n      <td>2</td>\n      <td>GOLD</td>\n      <td>647</td>\n    </tr>\n    <tr>\n      <th>5</th>\n      <td>5620</td>\n      <td>15648951</td>\n      <td>Kao</td>\n      <td>785</td>\n      <td>Spain</td>\n      <td>Male</td>\n      <td>41</td>\n      <td>7</td>\n      <td>0.00</td>\n      <td>2</td>\n      <td>1</td>\n      <td>1</td>\n      <td>199108.88</td>\n      <td>0</td>\n      <td>0</td>\n      <td>5</td>\n      <td>SILVER</td>\n      <td>681</td>\n    </tr>\n    <tr>\n      <th>6</th>\n      <td>3843</td>\n      <td>15717185</td>\n      <td>Udinese</td>\n      <td>711</td>\n      <td>France</td>\n      <td>Male</td>\n      <td>28</td>\n      <td>8</td>\n      <td>0.00</td>\n      <td>2</td>\n      <td>1</td>\n      <td>1</td>\n      <td>64286.39</td>\n      <td>0</td>\n      <td>0</td>\n      <td>2</td>\n      <td>GOLD</td>\n      <td>997</td>\n    </tr>\n    <tr>\n      <th>7</th>\n      <td>8190</td>\n      <td>15613292</td>\n      <td>Ch'eng</td>\n      <td>715</td>\n      <td>France</td>\n      <td>Male</td>\n      <td>21</td>\n      <td>8</td>\n      <td>0.00</td>\n      <td>2</td>\n      <td>1</td>\n      <td>0</td>\n      <td>68666.63</td>\n      <td>0</td>\n      <td>0</td>\n      <td>2</td>\n      <td>PLATINUM</td>\n      <td>827</td>\n    </tr>\n    <tr>\n      <th>8</th>\n      <td>6041</td>\n      <td>15735358</td>\n      <td>Dowse</td>\n      <td>682</td>\n      <td>Spain</td>\n      <td>Male</td>\n      <td>46</td>\n      <td>4</td>\n      <td>0.00</td>\n      <td>1</td>\n      <td>1</td>\n      <td>1</td>\n      <td>4654.28</td>\n      <td>0</td>\n      <td>0</td>\n      <td>5</td>\n      <td>SILVER</td>\n      <td>221</td>\n    </tr>\n    <tr>\n      <th>9</th>\n      <td>1484</td>\n      <td>15790683</td>\n      <td>Matthews</td>\n      <td>850</td>\n      <td>France</td>\n      <td>Male</td>\n      <td>36</td>\n      <td>1</td>\n      <td>104077.19</td>\n      <td>2</td>\n      <td>0</td>\n      <td>1</td>\n      <td>68594.00</td>\n      <td>0</td>\n      <td>0</td>\n      <td>1</td>\n      <td>DIAMOND</td>\n      <td>388</td>\n    </tr>\n  </tbody>\n</table>\n</div>"
     },
     "execution_count": 9,
     "metadata": {},
     "output_type": "execute_result"
    }
   ],
   "source": [
    "test_file = pd.read_csv(\"../data/Folder A/customers_file_1.csv\")\n",
    "test_file.head(10)"
   ],
   "metadata": {
    "collapsed": false,
    "ExecuteTime": {
     "end_time": "2023-12-09T01:58:57.462314Z",
     "start_time": "2023-12-09T01:58:57.443683Z"
    }
   }
  },
  {
   "cell_type": "code",
   "execution_count": 4,
   "outputs": [],
   "source": [
    "test_dag_file = df.sample(10).to_csv(\"../data/Folder C/test_file.csv\", index=False)"
   ],
   "metadata": {
    "collapsed": false,
    "ExecuteTime": {
     "end_time": "2023-12-07T14:30:54.361256Z",
     "start_time": "2023-12-07T14:30:54.335022Z"
    }
   }
  },
  {
   "cell_type": "code",
   "execution_count": 26,
   "outputs": [],
   "source": [
    "df_2 = df.copy()"
   ],
   "metadata": {
    "collapsed": false,
    "ExecuteTime": {
     "end_time": "2023-12-08T17:47:31.421769Z",
     "start_time": "2023-12-08T17:47:31.418270Z"
    }
   }
  },
  {
   "cell_type": "code",
   "execution_count": 27,
   "outputs": [
    {
     "data": {
      "text/plain": "   RowNumber  CustomerId   Surname  CreditScore Geography  Gender  Age   \n0          1    15634602  Hargrave          619    France  Female   42  \\\n1          2    15647311      Hill          608     Spain  Female   41   \n2          3    15619304      Onio          502    France  Female   42   \n3          4    15701354      Boni          699    France  Female   39   \n4          5    15737888  Mitchell          850     Spain  Female   43   \n\n   Tenure    Balance  NumOfProducts  HasCrCard  IsActiveMember   \n0       2       0.00              1          1               1  \\\n1       1   83807.86              1          0               1   \n2       8  159660.80              3          1               0   \n3       1       0.00              2          0               0   \n4       2  125510.82              1          1               1   \n\n   EstimatedSalary  Exited  Complain  Satisfaction Score Card Type   \n0        101348.88       1         1                   2   DIAMOND  \\\n1        112542.58       0         1                   3   DIAMOND   \n2        113931.57       1         1                   3   DIAMOND   \n3         93826.63       0         0                   5      GOLD   \n4         79084.10       0         0                   5      GOLD   \n\n   Point Earned  \n0           464  \n1           456  \n2           377  \n3           350  \n4           425  ",
      "text/html": "<div>\n<style scoped>\n    .dataframe tbody tr th:only-of-type {\n        vertical-align: middle;\n    }\n\n    .dataframe tbody tr th {\n        vertical-align: top;\n    }\n\n    .dataframe thead th {\n        text-align: right;\n    }\n</style>\n<table border=\"1\" class=\"dataframe\">\n  <thead>\n    <tr style=\"text-align: right;\">\n      <th></th>\n      <th>RowNumber</th>\n      <th>CustomerId</th>\n      <th>Surname</th>\n      <th>CreditScore</th>\n      <th>Geography</th>\n      <th>Gender</th>\n      <th>Age</th>\n      <th>Tenure</th>\n      <th>Balance</th>\n      <th>NumOfProducts</th>\n      <th>HasCrCard</th>\n      <th>IsActiveMember</th>\n      <th>EstimatedSalary</th>\n      <th>Exited</th>\n      <th>Complain</th>\n      <th>Satisfaction Score</th>\n      <th>Card Type</th>\n      <th>Point Earned</th>\n    </tr>\n  </thead>\n  <tbody>\n    <tr>\n      <th>0</th>\n      <td>1</td>\n      <td>15634602</td>\n      <td>Hargrave</td>\n      <td>619</td>\n      <td>France</td>\n      <td>Female</td>\n      <td>42</td>\n      <td>2</td>\n      <td>0.00</td>\n      <td>1</td>\n      <td>1</td>\n      <td>1</td>\n      <td>101348.88</td>\n      <td>1</td>\n      <td>1</td>\n      <td>2</td>\n      <td>DIAMOND</td>\n      <td>464</td>\n    </tr>\n    <tr>\n      <th>1</th>\n      <td>2</td>\n      <td>15647311</td>\n      <td>Hill</td>\n      <td>608</td>\n      <td>Spain</td>\n      <td>Female</td>\n      <td>41</td>\n      <td>1</td>\n      <td>83807.86</td>\n      <td>1</td>\n      <td>0</td>\n      <td>1</td>\n      <td>112542.58</td>\n      <td>0</td>\n      <td>1</td>\n      <td>3</td>\n      <td>DIAMOND</td>\n      <td>456</td>\n    </tr>\n    <tr>\n      <th>2</th>\n      <td>3</td>\n      <td>15619304</td>\n      <td>Onio</td>\n      <td>502</td>\n      <td>France</td>\n      <td>Female</td>\n      <td>42</td>\n      <td>8</td>\n      <td>159660.80</td>\n      <td>3</td>\n      <td>1</td>\n      <td>0</td>\n      <td>113931.57</td>\n      <td>1</td>\n      <td>1</td>\n      <td>3</td>\n      <td>DIAMOND</td>\n      <td>377</td>\n    </tr>\n    <tr>\n      <th>3</th>\n      <td>4</td>\n      <td>15701354</td>\n      <td>Boni</td>\n      <td>699</td>\n      <td>France</td>\n      <td>Female</td>\n      <td>39</td>\n      <td>1</td>\n      <td>0.00</td>\n      <td>2</td>\n      <td>0</td>\n      <td>0</td>\n      <td>93826.63</td>\n      <td>0</td>\n      <td>0</td>\n      <td>5</td>\n      <td>GOLD</td>\n      <td>350</td>\n    </tr>\n    <tr>\n      <th>4</th>\n      <td>5</td>\n      <td>15737888</td>\n      <td>Mitchell</td>\n      <td>850</td>\n      <td>Spain</td>\n      <td>Female</td>\n      <td>43</td>\n      <td>2</td>\n      <td>125510.82</td>\n      <td>1</td>\n      <td>1</td>\n      <td>1</td>\n      <td>79084.10</td>\n      <td>0</td>\n      <td>0</td>\n      <td>5</td>\n      <td>GOLD</td>\n      <td>425</td>\n    </tr>\n  </tbody>\n</table>\n</div>"
     },
     "execution_count": 27,
     "metadata": {},
     "output_type": "execute_result"
    }
   ],
   "source": [
    "df_2.head()"
   ],
   "metadata": {
    "collapsed": false,
    "ExecuteTime": {
     "end_time": "2023-12-08T17:47:32.545366Z",
     "start_time": "2023-12-08T17:47:32.544409Z"
    }
   }
  },
  {
   "cell_type": "code",
   "execution_count": 28,
   "outputs": [],
   "source": [
    "df_2.drop([\"RowNumber\", \"CustomerId\", \"Geography\", \"Surname\", \"Complain\", \"Exited\"], axis=1, inplace=True)"
   ],
   "metadata": {
    "collapsed": false,
    "ExecuteTime": {
     "end_time": "2023-12-08T17:47:37.022864Z",
     "start_time": "2023-12-08T17:47:37.021683Z"
    }
   }
  },
  {
   "cell_type": "code",
   "execution_count": 29,
   "outputs": [
    {
     "name": "stdout",
     "output_type": "stream",
     "text": [
      "10000\n"
     ]
    },
    {
     "data": {
      "text/plain": "   CreditScore  Gender  Age  Tenure    Balance  NumOfProducts  HasCrCard   \n0          619  Female   42       2       0.00              1          1  \\\n1          608  Female   41       1   83807.86              1          0   \n2          502  Female   42       8  159660.80              3          1   \n3          699  Female   39       1       0.00              2          0   \n4          850  Female   43       2  125510.82              1          1   \n\n   IsActiveMember  EstimatedSalary  Satisfaction Score Card Type  Point Earned  \n0               1        101348.88                   2   DIAMOND           464  \n1               1        112542.58                   3   DIAMOND           456  \n2               0        113931.57                   3   DIAMOND           377  \n3               0         93826.63                   5      GOLD           350  \n4               1         79084.10                   5      GOLD           425  ",
      "text/html": "<div>\n<style scoped>\n    .dataframe tbody tr th:only-of-type {\n        vertical-align: middle;\n    }\n\n    .dataframe tbody tr th {\n        vertical-align: top;\n    }\n\n    .dataframe thead th {\n        text-align: right;\n    }\n</style>\n<table border=\"1\" class=\"dataframe\">\n  <thead>\n    <tr style=\"text-align: right;\">\n      <th></th>\n      <th>CreditScore</th>\n      <th>Gender</th>\n      <th>Age</th>\n      <th>Tenure</th>\n      <th>Balance</th>\n      <th>NumOfProducts</th>\n      <th>HasCrCard</th>\n      <th>IsActiveMember</th>\n      <th>EstimatedSalary</th>\n      <th>Satisfaction Score</th>\n      <th>Card Type</th>\n      <th>Point Earned</th>\n    </tr>\n  </thead>\n  <tbody>\n    <tr>\n      <th>0</th>\n      <td>619</td>\n      <td>Female</td>\n      <td>42</td>\n      <td>2</td>\n      <td>0.00</td>\n      <td>1</td>\n      <td>1</td>\n      <td>1</td>\n      <td>101348.88</td>\n      <td>2</td>\n      <td>DIAMOND</td>\n      <td>464</td>\n    </tr>\n    <tr>\n      <th>1</th>\n      <td>608</td>\n      <td>Female</td>\n      <td>41</td>\n      <td>1</td>\n      <td>83807.86</td>\n      <td>1</td>\n      <td>0</td>\n      <td>1</td>\n      <td>112542.58</td>\n      <td>3</td>\n      <td>DIAMOND</td>\n      <td>456</td>\n    </tr>\n    <tr>\n      <th>2</th>\n      <td>502</td>\n      <td>Female</td>\n      <td>42</td>\n      <td>8</td>\n      <td>159660.80</td>\n      <td>3</td>\n      <td>1</td>\n      <td>0</td>\n      <td>113931.57</td>\n      <td>3</td>\n      <td>DIAMOND</td>\n      <td>377</td>\n    </tr>\n    <tr>\n      <th>3</th>\n      <td>699</td>\n      <td>Female</td>\n      <td>39</td>\n      <td>1</td>\n      <td>0.00</td>\n      <td>2</td>\n      <td>0</td>\n      <td>0</td>\n      <td>93826.63</td>\n      <td>5</td>\n      <td>GOLD</td>\n      <td>350</td>\n    </tr>\n    <tr>\n      <th>4</th>\n      <td>850</td>\n      <td>Female</td>\n      <td>43</td>\n      <td>2</td>\n      <td>125510.82</td>\n      <td>1</td>\n      <td>1</td>\n      <td>1</td>\n      <td>79084.10</td>\n      <td>5</td>\n      <td>GOLD</td>\n      <td>425</td>\n    </tr>\n  </tbody>\n</table>\n</div>"
     },
     "execution_count": 29,
     "metadata": {},
     "output_type": "execute_result"
    }
   ],
   "source": [
    "print(len(df_2))\n",
    "df_2.head()"
   ],
   "metadata": {
    "collapsed": false,
    "ExecuteTime": {
     "end_time": "2023-12-08T17:47:38.356627Z",
     "start_time": "2023-12-08T17:47:38.348746Z"
    }
   }
  },
  {
   "cell_type": "code",
   "execution_count": 30,
   "outputs": [],
   "source": [
    "test_api_for_dag = df_2.sample(10)\n",
    "test_api_for_dag.to_csv(\"test_api_for_dag.csv\", index=False)"
   ],
   "metadata": {
    "collapsed": false,
    "ExecuteTime": {
     "end_time": "2023-12-08T17:47:42.101260Z",
     "start_time": "2023-12-08T17:47:42.093249Z"
    }
   }
  }
 ],
 "metadata": {
  "kernelspec": {
   "display_name": "Python 3",
   "language": "python",
   "name": "python3"
  },
  "language_info": {
   "codemirror_mode": {
    "name": "ipython",
    "version": 2
   },
   "file_extension": ".py",
   "mimetype": "text/x-python",
   "name": "python",
   "nbconvert_exporter": "python",
   "pygments_lexer": "ipython2",
   "version": "2.7.6"
  }
 },
 "nbformat": 4,
 "nbformat_minor": 0
}
