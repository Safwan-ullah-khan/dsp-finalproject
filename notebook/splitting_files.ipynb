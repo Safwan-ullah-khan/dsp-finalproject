{
 "cells": [
  {
   "cell_type": "code",
   "execution_count": 1,
   "metadata": {
    "collapsed": true,
    "ExecuteTime": {
     "end_time": "2023-12-06T19:24:56.782720Z",
     "start_time": "2023-12-06T19:24:55.458981Z"
    }
   },
   "outputs": [],
   "source": [
    "import pandas as pd"
   ]
  },
  {
   "cell_type": "code",
   "execution_count": 3,
   "outputs": [],
   "source": [
    "df_master = pd.read_csv(\"../data/Customer-Churn-Records.csv\")\n",
    "df = df_master.copy()"
   ],
   "metadata": {
    "collapsed": false,
    "ExecuteTime": {
     "end_time": "2023-12-06T19:26:30.060808Z",
     "start_time": "2023-12-06T19:26:29.802780Z"
    }
   }
  },
  {
   "cell_type": "code",
   "execution_count": 4,
   "outputs": [
    {
     "data": {
      "text/plain": "   RowNumber  CustomerId   Surname  CreditScore Geography  Gender  Age   \n0          1    15634602  Hargrave          619    France  Female   42  \\\n1          2    15647311      Hill          608     Spain  Female   41   \n2          3    15619304      Onio          502    France  Female   42   \n3          4    15701354      Boni          699    France  Female   39   \n4          5    15737888  Mitchell          850     Spain  Female   43   \n\n   Tenure    Balance  NumOfProducts  HasCrCard  IsActiveMember   \n0       2       0.00              1          1               1  \\\n1       1   83807.86              1          0               1   \n2       8  159660.80              3          1               0   \n3       1       0.00              2          0               0   \n4       2  125510.82              1          1               1   \n\n   EstimatedSalary  Exited  Complain  Satisfaction Score Card Type   \n0        101348.88       1         1                   2   DIAMOND  \\\n1        112542.58       0         1                   3   DIAMOND   \n2        113931.57       1         1                   3   DIAMOND   \n3         93826.63       0         0                   5      GOLD   \n4         79084.10       0         0                   5      GOLD   \n\n   Point Earned  \n0           464  \n1           456  \n2           377  \n3           350  \n4           425  ",
      "text/html": "<div>\n<style scoped>\n    .dataframe tbody tr th:only-of-type {\n        vertical-align: middle;\n    }\n\n    .dataframe tbody tr th {\n        vertical-align: top;\n    }\n\n    .dataframe thead th {\n        text-align: right;\n    }\n</style>\n<table border=\"1\" class=\"dataframe\">\n  <thead>\n    <tr style=\"text-align: right;\">\n      <th></th>\n      <th>RowNumber</th>\n      <th>CustomerId</th>\n      <th>Surname</th>\n      <th>CreditScore</th>\n      <th>Geography</th>\n      <th>Gender</th>\n      <th>Age</th>\n      <th>Tenure</th>\n      <th>Balance</th>\n      <th>NumOfProducts</th>\n      <th>HasCrCard</th>\n      <th>IsActiveMember</th>\n      <th>EstimatedSalary</th>\n      <th>Exited</th>\n      <th>Complain</th>\n      <th>Satisfaction Score</th>\n      <th>Card Type</th>\n      <th>Point Earned</th>\n    </tr>\n  </thead>\n  <tbody>\n    <tr>\n      <th>0</th>\n      <td>1</td>\n      <td>15634602</td>\n      <td>Hargrave</td>\n      <td>619</td>\n      <td>France</td>\n      <td>Female</td>\n      <td>42</td>\n      <td>2</td>\n      <td>0.00</td>\n      <td>1</td>\n      <td>1</td>\n      <td>1</td>\n      <td>101348.88</td>\n      <td>1</td>\n      <td>1</td>\n      <td>2</td>\n      <td>DIAMOND</td>\n      <td>464</td>\n    </tr>\n    <tr>\n      <th>1</th>\n      <td>2</td>\n      <td>15647311</td>\n      <td>Hill</td>\n      <td>608</td>\n      <td>Spain</td>\n      <td>Female</td>\n      <td>41</td>\n      <td>1</td>\n      <td>83807.86</td>\n      <td>1</td>\n      <td>0</td>\n      <td>1</td>\n      <td>112542.58</td>\n      <td>0</td>\n      <td>1</td>\n      <td>3</td>\n      <td>DIAMOND</td>\n      <td>456</td>\n    </tr>\n    <tr>\n      <th>2</th>\n      <td>3</td>\n      <td>15619304</td>\n      <td>Onio</td>\n      <td>502</td>\n      <td>France</td>\n      <td>Female</td>\n      <td>42</td>\n      <td>8</td>\n      <td>159660.80</td>\n      <td>3</td>\n      <td>1</td>\n      <td>0</td>\n      <td>113931.57</td>\n      <td>1</td>\n      <td>1</td>\n      <td>3</td>\n      <td>DIAMOND</td>\n      <td>377</td>\n    </tr>\n    <tr>\n      <th>3</th>\n      <td>4</td>\n      <td>15701354</td>\n      <td>Boni</td>\n      <td>699</td>\n      <td>France</td>\n      <td>Female</td>\n      <td>39</td>\n      <td>1</td>\n      <td>0.00</td>\n      <td>2</td>\n      <td>0</td>\n      <td>0</td>\n      <td>93826.63</td>\n      <td>0</td>\n      <td>0</td>\n      <td>5</td>\n      <td>GOLD</td>\n      <td>350</td>\n    </tr>\n    <tr>\n      <th>4</th>\n      <td>5</td>\n      <td>15737888</td>\n      <td>Mitchell</td>\n      <td>850</td>\n      <td>Spain</td>\n      <td>Female</td>\n      <td>43</td>\n      <td>2</td>\n      <td>125510.82</td>\n      <td>1</td>\n      <td>1</td>\n      <td>1</td>\n      <td>79084.10</td>\n      <td>0</td>\n      <td>0</td>\n      <td>5</td>\n      <td>GOLD</td>\n      <td>425</td>\n    </tr>\n  </tbody>\n</table>\n</div>"
     },
     "execution_count": 4,
     "metadata": {},
     "output_type": "execute_result"
    }
   ],
   "source": [
    "df.head()"
   ],
   "metadata": {
    "collapsed": false,
    "ExecuteTime": {
     "end_time": "2023-12-06T19:26:31.508513Z",
     "start_time": "2023-12-06T19:26:31.485331Z"
    }
   }
  },
  {
   "cell_type": "code",
   "execution_count": 5,
   "outputs": [
    {
     "data": {
      "text/plain": "      RowNumber  CustomerId   Surname  CreditScore Geography  Gender  Age   \n7779       7780    15699225   Pirozzi          757    France    Male   46  \\\n5259       5260    15614635    Kepley          582    France    Male   52   \n2238       2239    15808784      Hess          835    France    Male   28   \n4352       4353    15765192     Jones          564    France    Male   26   \n8766       8767    15638159  Trentino          649     Spain  Female   36   \n\n      Tenure    Balance  NumOfProducts  HasCrCard  IsActiveMember   \n7779       0       0.00              2          1               0  \\\n5259       2  151457.88              1          0               1   \n2238       2  163569.61              2          1               1   \n4352       7   84006.88              2          0               0   \n8766       6   86607.39              1          0               0   \n\n      EstimatedSalary  Exited  Complain  Satisfaction Score Card Type   \n7779         37460.05       0         0                   5   DIAMOND  \\\n5259         40893.61       0         0                   5   DIAMOND   \n2238        154559.28       0         0                   5  PLATINUM   \n4352        183490.99       0         0                   5    SILVER   \n8766         19825.09       0         0                   3  PLATINUM   \n\n      Point Earned  \n7779           748  \n5259           889  \n2238           560  \n4352           984  \n8766           998  ",
      "text/html": "<div>\n<style scoped>\n    .dataframe tbody tr th:only-of-type {\n        vertical-align: middle;\n    }\n\n    .dataframe tbody tr th {\n        vertical-align: top;\n    }\n\n    .dataframe thead th {\n        text-align: right;\n    }\n</style>\n<table border=\"1\" class=\"dataframe\">\n  <thead>\n    <tr style=\"text-align: right;\">\n      <th></th>\n      <th>RowNumber</th>\n      <th>CustomerId</th>\n      <th>Surname</th>\n      <th>CreditScore</th>\n      <th>Geography</th>\n      <th>Gender</th>\n      <th>Age</th>\n      <th>Tenure</th>\n      <th>Balance</th>\n      <th>NumOfProducts</th>\n      <th>HasCrCard</th>\n      <th>IsActiveMember</th>\n      <th>EstimatedSalary</th>\n      <th>Exited</th>\n      <th>Complain</th>\n      <th>Satisfaction Score</th>\n      <th>Card Type</th>\n      <th>Point Earned</th>\n    </tr>\n  </thead>\n  <tbody>\n    <tr>\n      <th>7779</th>\n      <td>7780</td>\n      <td>15699225</td>\n      <td>Pirozzi</td>\n      <td>757</td>\n      <td>France</td>\n      <td>Male</td>\n      <td>46</td>\n      <td>0</td>\n      <td>0.00</td>\n      <td>2</td>\n      <td>1</td>\n      <td>0</td>\n      <td>37460.05</td>\n      <td>0</td>\n      <td>0</td>\n      <td>5</td>\n      <td>DIAMOND</td>\n      <td>748</td>\n    </tr>\n    <tr>\n      <th>5259</th>\n      <td>5260</td>\n      <td>15614635</td>\n      <td>Kepley</td>\n      <td>582</td>\n      <td>France</td>\n      <td>Male</td>\n      <td>52</td>\n      <td>2</td>\n      <td>151457.88</td>\n      <td>1</td>\n      <td>0</td>\n      <td>1</td>\n      <td>40893.61</td>\n      <td>0</td>\n      <td>0</td>\n      <td>5</td>\n      <td>DIAMOND</td>\n      <td>889</td>\n    </tr>\n    <tr>\n      <th>2238</th>\n      <td>2239</td>\n      <td>15808784</td>\n      <td>Hess</td>\n      <td>835</td>\n      <td>France</td>\n      <td>Male</td>\n      <td>28</td>\n      <td>2</td>\n      <td>163569.61</td>\n      <td>2</td>\n      <td>1</td>\n      <td>1</td>\n      <td>154559.28</td>\n      <td>0</td>\n      <td>0</td>\n      <td>5</td>\n      <td>PLATINUM</td>\n      <td>560</td>\n    </tr>\n    <tr>\n      <th>4352</th>\n      <td>4353</td>\n      <td>15765192</td>\n      <td>Jones</td>\n      <td>564</td>\n      <td>France</td>\n      <td>Male</td>\n      <td>26</td>\n      <td>7</td>\n      <td>84006.88</td>\n      <td>2</td>\n      <td>0</td>\n      <td>0</td>\n      <td>183490.99</td>\n      <td>0</td>\n      <td>0</td>\n      <td>5</td>\n      <td>SILVER</td>\n      <td>984</td>\n    </tr>\n    <tr>\n      <th>8766</th>\n      <td>8767</td>\n      <td>15638159</td>\n      <td>Trentino</td>\n      <td>649</td>\n      <td>Spain</td>\n      <td>Female</td>\n      <td>36</td>\n      <td>6</td>\n      <td>86607.39</td>\n      <td>1</td>\n      <td>0</td>\n      <td>0</td>\n      <td>19825.09</td>\n      <td>0</td>\n      <td>0</td>\n      <td>3</td>\n      <td>PLATINUM</td>\n      <td>998</td>\n    </tr>\n  </tbody>\n</table>\n</div>"
     },
     "execution_count": 5,
     "metadata": {},
     "output_type": "execute_result"
    }
   ],
   "source": [
    "df_sample = df.sample(100)\n",
    "df_sample.head()"
   ],
   "metadata": {
    "collapsed": false,
    "ExecuteTime": {
     "end_time": "2023-12-06T19:38:19.908750Z",
     "start_time": "2023-12-06T19:38:19.862187Z"
    }
   }
  },
  {
   "cell_type": "code",
   "execution_count": 10,
   "outputs": [],
   "source": [
    "for i in range(10):\n",
    "    df_sample_1 = df.sample(100)\n",
    "    df_sample_1.to_csv(f'../data/Folder A/customers_file_{i+1}.csv', index=False)"
   ],
   "metadata": {
    "collapsed": false,
    "ExecuteTime": {
     "end_time": "2023-12-06T19:44:37.940660Z",
     "start_time": "2023-12-06T19:44:37.896441Z"
    }
   }
  },
  {
   "cell_type": "code",
   "execution_count": 11,
   "outputs": [
    {
     "data": {
      "text/plain": "   RowNumber  CustomerId     Surname  CreditScore Geography  Gender  Age   \n0       6056    15623972      Wisdom          479   Germany  Female   23  \\\n1       6672    15795933      Barese          677    France  Female   49   \n2       5139    15589969       Capon          850    France    Male   34   \n3       4160    15732268        Cook          751    France    Male   29   \n4       4662    15670416       Ferri          780    France  Female   43   \n5       2423    15607837      Muriel          746    France  Female   29   \n6        229    15637753  O'Sullivan          751   Germany    Male   50   \n7       8806    15758546      Norton          850     Spain    Male   39   \n8       4786    15702138       Swift          510    France  Female   22   \n9       7456    15748499     Johnson          550   Germany    Male   33   \n\n   Tenure    Balance  NumOfProducts  HasCrCard  IsActiveMember   \n0       9  123575.51              1          0               1  \\\n1       3       0.00              2          1               1   \n2       6       0.00              1          0               1   \n3       3  159597.45              1          1               0   \n4       0       0.00              1          0               1   \n5       4  105599.67              1          1               1   \n6       2   96888.39              1          1               0   \n7       8       0.00              2          1               1   \n8       3  156834.34              1          0               0   \n9       4  118400.91              1          0               1   \n\n   EstimatedSalary  Exited  Complain  Satisfaction Score Card Type   \n0         95148.28       0         0                   3      GOLD  \\\n1        187811.71       0         0                   3      GOLD   \n2         52796.31       0         0                   3      GOLD   \n3         39934.41       0         0                   5  PLATINUM   \n4         15705.27       0         0                   1   DIAMOND   \n5         43106.17       0         0                   3   DIAMOND   \n6         77206.25       1         1                   2   DIAMOND   \n7         37090.44       0         0                   3   DIAMOND   \n8         44374.44       0         0                   2   DIAMOND   \n9         13999.64       1         1                   3  PLATINUM   \n\n   Point Earned  \n0           787  \n1           643  \n2           831  \n3           791  \n4           245  \n5           425  \n6           756  \n7           995  \n8           821  \n9           362  ",
      "text/html": "<div>\n<style scoped>\n    .dataframe tbody tr th:only-of-type {\n        vertical-align: middle;\n    }\n\n    .dataframe tbody tr th {\n        vertical-align: top;\n    }\n\n    .dataframe thead th {\n        text-align: right;\n    }\n</style>\n<table border=\"1\" class=\"dataframe\">\n  <thead>\n    <tr style=\"text-align: right;\">\n      <th></th>\n      <th>RowNumber</th>\n      <th>CustomerId</th>\n      <th>Surname</th>\n      <th>CreditScore</th>\n      <th>Geography</th>\n      <th>Gender</th>\n      <th>Age</th>\n      <th>Tenure</th>\n      <th>Balance</th>\n      <th>NumOfProducts</th>\n      <th>HasCrCard</th>\n      <th>IsActiveMember</th>\n      <th>EstimatedSalary</th>\n      <th>Exited</th>\n      <th>Complain</th>\n      <th>Satisfaction Score</th>\n      <th>Card Type</th>\n      <th>Point Earned</th>\n    </tr>\n  </thead>\n  <tbody>\n    <tr>\n      <th>0</th>\n      <td>6056</td>\n      <td>15623972</td>\n      <td>Wisdom</td>\n      <td>479</td>\n      <td>Germany</td>\n      <td>Female</td>\n      <td>23</td>\n      <td>9</td>\n      <td>123575.51</td>\n      <td>1</td>\n      <td>0</td>\n      <td>1</td>\n      <td>95148.28</td>\n      <td>0</td>\n      <td>0</td>\n      <td>3</td>\n      <td>GOLD</td>\n      <td>787</td>\n    </tr>\n    <tr>\n      <th>1</th>\n      <td>6672</td>\n      <td>15795933</td>\n      <td>Barese</td>\n      <td>677</td>\n      <td>France</td>\n      <td>Female</td>\n      <td>49</td>\n      <td>3</td>\n      <td>0.00</td>\n      <td>2</td>\n      <td>1</td>\n      <td>1</td>\n      <td>187811.71</td>\n      <td>0</td>\n      <td>0</td>\n      <td>3</td>\n      <td>GOLD</td>\n      <td>643</td>\n    </tr>\n    <tr>\n      <th>2</th>\n      <td>5139</td>\n      <td>15589969</td>\n      <td>Capon</td>\n      <td>850</td>\n      <td>France</td>\n      <td>Male</td>\n      <td>34</td>\n      <td>6</td>\n      <td>0.00</td>\n      <td>1</td>\n      <td>0</td>\n      <td>1</td>\n      <td>52796.31</td>\n      <td>0</td>\n      <td>0</td>\n      <td>3</td>\n      <td>GOLD</td>\n      <td>831</td>\n    </tr>\n    <tr>\n      <th>3</th>\n      <td>4160</td>\n      <td>15732268</td>\n      <td>Cook</td>\n      <td>751</td>\n      <td>France</td>\n      <td>Male</td>\n      <td>29</td>\n      <td>3</td>\n      <td>159597.45</td>\n      <td>1</td>\n      <td>1</td>\n      <td>0</td>\n      <td>39934.41</td>\n      <td>0</td>\n      <td>0</td>\n      <td>5</td>\n      <td>PLATINUM</td>\n      <td>791</td>\n    </tr>\n    <tr>\n      <th>4</th>\n      <td>4662</td>\n      <td>15670416</td>\n      <td>Ferri</td>\n      <td>780</td>\n      <td>France</td>\n      <td>Female</td>\n      <td>43</td>\n      <td>0</td>\n      <td>0.00</td>\n      <td>1</td>\n      <td>0</td>\n      <td>1</td>\n      <td>15705.27</td>\n      <td>0</td>\n      <td>0</td>\n      <td>1</td>\n      <td>DIAMOND</td>\n      <td>245</td>\n    </tr>\n    <tr>\n      <th>5</th>\n      <td>2423</td>\n      <td>15607837</td>\n      <td>Muriel</td>\n      <td>746</td>\n      <td>France</td>\n      <td>Female</td>\n      <td>29</td>\n      <td>4</td>\n      <td>105599.67</td>\n      <td>1</td>\n      <td>1</td>\n      <td>1</td>\n      <td>43106.17</td>\n      <td>0</td>\n      <td>0</td>\n      <td>3</td>\n      <td>DIAMOND</td>\n      <td>425</td>\n    </tr>\n    <tr>\n      <th>6</th>\n      <td>229</td>\n      <td>15637753</td>\n      <td>O'Sullivan</td>\n      <td>751</td>\n      <td>Germany</td>\n      <td>Male</td>\n      <td>50</td>\n      <td>2</td>\n      <td>96888.39</td>\n      <td>1</td>\n      <td>1</td>\n      <td>0</td>\n      <td>77206.25</td>\n      <td>1</td>\n      <td>1</td>\n      <td>2</td>\n      <td>DIAMOND</td>\n      <td>756</td>\n    </tr>\n    <tr>\n      <th>7</th>\n      <td>8806</td>\n      <td>15758546</td>\n      <td>Norton</td>\n      <td>850</td>\n      <td>Spain</td>\n      <td>Male</td>\n      <td>39</td>\n      <td>8</td>\n      <td>0.00</td>\n      <td>2</td>\n      <td>1</td>\n      <td>1</td>\n      <td>37090.44</td>\n      <td>0</td>\n      <td>0</td>\n      <td>3</td>\n      <td>DIAMOND</td>\n      <td>995</td>\n    </tr>\n    <tr>\n      <th>8</th>\n      <td>4786</td>\n      <td>15702138</td>\n      <td>Swift</td>\n      <td>510</td>\n      <td>France</td>\n      <td>Female</td>\n      <td>22</td>\n      <td>3</td>\n      <td>156834.34</td>\n      <td>1</td>\n      <td>0</td>\n      <td>0</td>\n      <td>44374.44</td>\n      <td>0</td>\n      <td>0</td>\n      <td>2</td>\n      <td>DIAMOND</td>\n      <td>821</td>\n    </tr>\n    <tr>\n      <th>9</th>\n      <td>7456</td>\n      <td>15748499</td>\n      <td>Johnson</td>\n      <td>550</td>\n      <td>Germany</td>\n      <td>Male</td>\n      <td>33</td>\n      <td>4</td>\n      <td>118400.91</td>\n      <td>1</td>\n      <td>0</td>\n      <td>1</td>\n      <td>13999.64</td>\n      <td>1</td>\n      <td>1</td>\n      <td>3</td>\n      <td>PLATINUM</td>\n      <td>362</td>\n    </tr>\n  </tbody>\n</table>\n</div>"
     },
     "execution_count": 11,
     "metadata": {},
     "output_type": "execute_result"
    }
   ],
   "source": [
    "test_file = pd.read_csv(\"../data/Folder A/customers_file_1.csv\")\n",
    "test_file.head(10)"
   ],
   "metadata": {
    "collapsed": false,
    "ExecuteTime": {
     "end_time": "2023-12-06T19:44:59.308339Z",
     "start_time": "2023-12-06T19:44:59.261141Z"
    }
   }
  }
 ],
 "metadata": {
  "kernelspec": {
   "display_name": "Python 3",
   "language": "python",
   "name": "python3"
  },
  "language_info": {
   "codemirror_mode": {
    "name": "ipython",
    "version": 2
   },
   "file_extension": ".py",
   "mimetype": "text/x-python",
   "name": "python",
   "nbconvert_exporter": "python",
   "pygments_lexer": "ipython2",
   "version": "2.7.6"
  }
 },
 "nbformat": 4,
 "nbformat_minor": 0
}
