{
 "cells": [
  {
   "cell_type": "code",
   "execution_count": 1,
   "metadata": {
    "collapsed": true,
    "ExecuteTime": {
     "end_time": "2024-01-12T17:51:24.549749Z",
     "start_time": "2024-01-12T17:51:23.867213Z"
    }
   },
   "outputs": [],
   "source": [
    "import pandas as pd\n",
    "import random"
   ]
  },
  {
   "cell_type": "code",
   "execution_count": 3,
   "outputs": [],
   "source": [
    "df_master = pd.read_csv(\"../data/customer_churn_records.csv\")\n",
    "df = df_master.copy()"
   ],
   "metadata": {
    "collapsed": false,
    "ExecuteTime": {
     "end_time": "2024-01-12T17:51:33.930403Z",
     "start_time": "2024-01-12T17:51:33.905301Z"
    }
   }
  },
  {
   "cell_type": "code",
   "execution_count": 4,
   "outputs": [
    {
     "data": {
      "text/plain": "   RowNumber  CustomerId   Surname  CreditScore Geography  Gender  Age  \\\n0          1    15634602  Hargrave          619    France  Female   42   \n1          2    15647311      Hill          608     Spain  Female   41   \n2          3    15619304      Onio          502    France  Female   42   \n3          4    15701354      Boni          699    France  Female   39   \n4          5    15737888  Mitchell          850     Spain  Female   43   \n\n   Tenure    Balance  NumOfProducts  HasCrCard  IsActiveMember  \\\n0       2       0.00              1          1               1   \n1       1   83807.86              1          0               1   \n2       8  159660.80              3          1               0   \n3       1       0.00              2          0               0   \n4       2  125510.82              1          1               1   \n\n   EstimatedSalary  Exited  Complain  SatisfactionScore CardType  PointEarned  \n0        101348.88       1         1                  2  DIAMOND          464  \n1        112542.58       0         1                  3  DIAMOND          456  \n2        113931.57       1         1                  3  DIAMOND          377  \n3         93826.63       0         0                  5     GOLD          350  \n4         79084.10       0         0                  5     GOLD          425  ",
      "text/html": "<div>\n<style scoped>\n    .dataframe tbody tr th:only-of-type {\n        vertical-align: middle;\n    }\n\n    .dataframe tbody tr th {\n        vertical-align: top;\n    }\n\n    .dataframe thead th {\n        text-align: right;\n    }\n</style>\n<table border=\"1\" class=\"dataframe\">\n  <thead>\n    <tr style=\"text-align: right;\">\n      <th></th>\n      <th>RowNumber</th>\n      <th>CustomerId</th>\n      <th>Surname</th>\n      <th>CreditScore</th>\n      <th>Geography</th>\n      <th>Gender</th>\n      <th>Age</th>\n      <th>Tenure</th>\n      <th>Balance</th>\n      <th>NumOfProducts</th>\n      <th>HasCrCard</th>\n      <th>IsActiveMember</th>\n      <th>EstimatedSalary</th>\n      <th>Exited</th>\n      <th>Complain</th>\n      <th>SatisfactionScore</th>\n      <th>CardType</th>\n      <th>PointEarned</th>\n    </tr>\n  </thead>\n  <tbody>\n    <tr>\n      <th>0</th>\n      <td>1</td>\n      <td>15634602</td>\n      <td>Hargrave</td>\n      <td>619</td>\n      <td>France</td>\n      <td>Female</td>\n      <td>42</td>\n      <td>2</td>\n      <td>0.00</td>\n      <td>1</td>\n      <td>1</td>\n      <td>1</td>\n      <td>101348.88</td>\n      <td>1</td>\n      <td>1</td>\n      <td>2</td>\n      <td>DIAMOND</td>\n      <td>464</td>\n    </tr>\n    <tr>\n      <th>1</th>\n      <td>2</td>\n      <td>15647311</td>\n      <td>Hill</td>\n      <td>608</td>\n      <td>Spain</td>\n      <td>Female</td>\n      <td>41</td>\n      <td>1</td>\n      <td>83807.86</td>\n      <td>1</td>\n      <td>0</td>\n      <td>1</td>\n      <td>112542.58</td>\n      <td>0</td>\n      <td>1</td>\n      <td>3</td>\n      <td>DIAMOND</td>\n      <td>456</td>\n    </tr>\n    <tr>\n      <th>2</th>\n      <td>3</td>\n      <td>15619304</td>\n      <td>Onio</td>\n      <td>502</td>\n      <td>France</td>\n      <td>Female</td>\n      <td>42</td>\n      <td>8</td>\n      <td>159660.80</td>\n      <td>3</td>\n      <td>1</td>\n      <td>0</td>\n      <td>113931.57</td>\n      <td>1</td>\n      <td>1</td>\n      <td>3</td>\n      <td>DIAMOND</td>\n      <td>377</td>\n    </tr>\n    <tr>\n      <th>3</th>\n      <td>4</td>\n      <td>15701354</td>\n      <td>Boni</td>\n      <td>699</td>\n      <td>France</td>\n      <td>Female</td>\n      <td>39</td>\n      <td>1</td>\n      <td>0.00</td>\n      <td>2</td>\n      <td>0</td>\n      <td>0</td>\n      <td>93826.63</td>\n      <td>0</td>\n      <td>0</td>\n      <td>5</td>\n      <td>GOLD</td>\n      <td>350</td>\n    </tr>\n    <tr>\n      <th>4</th>\n      <td>5</td>\n      <td>15737888</td>\n      <td>Mitchell</td>\n      <td>850</td>\n      <td>Spain</td>\n      <td>Female</td>\n      <td>43</td>\n      <td>2</td>\n      <td>125510.82</td>\n      <td>1</td>\n      <td>1</td>\n      <td>1</td>\n      <td>79084.10</td>\n      <td>0</td>\n      <td>0</td>\n      <td>5</td>\n      <td>GOLD</td>\n      <td>425</td>\n    </tr>\n  </tbody>\n</table>\n</div>"
     },
     "execution_count": 4,
     "metadata": {},
     "output_type": "execute_result"
    }
   ],
   "source": [
    "df.head()"
   ],
   "metadata": {
    "collapsed": false,
    "ExecuteTime": {
     "end_time": "2024-01-12T17:51:35.408235Z",
     "start_time": "2024-01-12T17:51:35.401295Z"
    }
   }
  },
  {
   "cell_type": "code",
   "execution_count": 5,
   "outputs": [
    {
     "data": {
      "text/plain": "      RowNumber  CustomerId        Surname  CreditScore Geography  Gender  \\\n160         161    15692132      Wilkinson          717     Spain  Female   \n2236       2237    15712849           Tung          632   Germany    Male   \n1332       1333    15796721  Nnamutaezinwa          778    France    Male   \n2548       2549    15617197          Chien          524    France    Male   \n4876       4877    15585133            Wei          657     Spain  Female   \n\n      Age  Tenure    Balance  NumOfProducts  HasCrCard  IsActiveMember  \\\n160    22       6  101060.25              1          0               1   \n2236   41       3  126550.70              1          0               0   \n1332   38       3  145018.49              2          1               1   \n2548   50       4       0.00              2          1               1   \n4876   27       8       0.00              2          0               0   \n\n      EstimatedSalary  Exited  Complain  SatisfactionScore  CardType  \\\n160          84699.56       0         0                  2      GOLD   \n2236        177644.52       1         1                  3  PLATINUM   \n1332        126702.41       0         0                  2    SILVER   \n2548         31840.59       1         1                  2    SILVER   \n4876          6468.24       0         0                  2      GOLD   \n\n      PointEarned  \n160           666  \n2236          324  \n1332          598  \n2548          292  \n4876          354  ",
      "text/html": "<div>\n<style scoped>\n    .dataframe tbody tr th:only-of-type {\n        vertical-align: middle;\n    }\n\n    .dataframe tbody tr th {\n        vertical-align: top;\n    }\n\n    .dataframe thead th {\n        text-align: right;\n    }\n</style>\n<table border=\"1\" class=\"dataframe\">\n  <thead>\n    <tr style=\"text-align: right;\">\n      <th></th>\n      <th>RowNumber</th>\n      <th>CustomerId</th>\n      <th>Surname</th>\n      <th>CreditScore</th>\n      <th>Geography</th>\n      <th>Gender</th>\n      <th>Age</th>\n      <th>Tenure</th>\n      <th>Balance</th>\n      <th>NumOfProducts</th>\n      <th>HasCrCard</th>\n      <th>IsActiveMember</th>\n      <th>EstimatedSalary</th>\n      <th>Exited</th>\n      <th>Complain</th>\n      <th>SatisfactionScore</th>\n      <th>CardType</th>\n      <th>PointEarned</th>\n    </tr>\n  </thead>\n  <tbody>\n    <tr>\n      <th>160</th>\n      <td>161</td>\n      <td>15692132</td>\n      <td>Wilkinson</td>\n      <td>717</td>\n      <td>Spain</td>\n      <td>Female</td>\n      <td>22</td>\n      <td>6</td>\n      <td>101060.25</td>\n      <td>1</td>\n      <td>0</td>\n      <td>1</td>\n      <td>84699.56</td>\n      <td>0</td>\n      <td>0</td>\n      <td>2</td>\n      <td>GOLD</td>\n      <td>666</td>\n    </tr>\n    <tr>\n      <th>2236</th>\n      <td>2237</td>\n      <td>15712849</td>\n      <td>Tung</td>\n      <td>632</td>\n      <td>Germany</td>\n      <td>Male</td>\n      <td>41</td>\n      <td>3</td>\n      <td>126550.70</td>\n      <td>1</td>\n      <td>0</td>\n      <td>0</td>\n      <td>177644.52</td>\n      <td>1</td>\n      <td>1</td>\n      <td>3</td>\n      <td>PLATINUM</td>\n      <td>324</td>\n    </tr>\n    <tr>\n      <th>1332</th>\n      <td>1333</td>\n      <td>15796721</td>\n      <td>Nnamutaezinwa</td>\n      <td>778</td>\n      <td>France</td>\n      <td>Male</td>\n      <td>38</td>\n      <td>3</td>\n      <td>145018.49</td>\n      <td>2</td>\n      <td>1</td>\n      <td>1</td>\n      <td>126702.41</td>\n      <td>0</td>\n      <td>0</td>\n      <td>2</td>\n      <td>SILVER</td>\n      <td>598</td>\n    </tr>\n    <tr>\n      <th>2548</th>\n      <td>2549</td>\n      <td>15617197</td>\n      <td>Chien</td>\n      <td>524</td>\n      <td>France</td>\n      <td>Male</td>\n      <td>50</td>\n      <td>4</td>\n      <td>0.00</td>\n      <td>2</td>\n      <td>1</td>\n      <td>1</td>\n      <td>31840.59</td>\n      <td>1</td>\n      <td>1</td>\n      <td>2</td>\n      <td>SILVER</td>\n      <td>292</td>\n    </tr>\n    <tr>\n      <th>4876</th>\n      <td>4877</td>\n      <td>15585133</td>\n      <td>Wei</td>\n      <td>657</td>\n      <td>Spain</td>\n      <td>Female</td>\n      <td>27</td>\n      <td>8</td>\n      <td>0.00</td>\n      <td>2</td>\n      <td>0</td>\n      <td>0</td>\n      <td>6468.24</td>\n      <td>0</td>\n      <td>0</td>\n      <td>2</td>\n      <td>GOLD</td>\n      <td>354</td>\n    </tr>\n  </tbody>\n</table>\n</div>"
     },
     "execution_count": 5,
     "metadata": {},
     "output_type": "execute_result"
    }
   ],
   "source": [
    "df_sample = df.sample(100)\n",
    "df_sample.head()"
   ],
   "metadata": {
    "collapsed": false,
    "ExecuteTime": {
     "end_time": "2024-01-12T17:51:40.733487Z",
     "start_time": "2024-01-12T17:51:40.724058Z"
    }
   }
  },
  {
   "cell_type": "code",
   "execution_count": 6,
   "outputs": [],
   "source": [
    "df_with_only_features = df.drop([\"RowNumber\", \"CustomerId\", \"Geography\", \"Surname\", \"Complain\", \"Exited\"], axis=1)"
   ],
   "metadata": {
    "collapsed": false,
    "ExecuteTime": {
     "end_time": "2024-01-12T17:51:43.638966Z",
     "start_time": "2024-01-12T17:51:43.635290Z"
    }
   }
  },
  {
   "cell_type": "code",
   "execution_count": 7,
   "outputs": [
    {
     "data": {
      "text/plain": "   CreditScore  Gender  Age  Tenure    Balance  NumOfProducts  HasCrCard  \\\n0          619  Female   42       2       0.00              1          1   \n1          608  Female   41       1   83807.86              1          0   \n2          502  Female   42       8  159660.80              3          1   \n3          699  Female   39       1       0.00              2          0   \n4          850  Female   43       2  125510.82              1          1   \n\n   IsActiveMember  EstimatedSalary  SatisfactionScore CardType  PointEarned  \n0               1        101348.88                  2  DIAMOND          464  \n1               1        112542.58                  3  DIAMOND          456  \n2               0        113931.57                  3  DIAMOND          377  \n3               0         93826.63                  5     GOLD          350  \n4               1         79084.10                  5     GOLD          425  ",
      "text/html": "<div>\n<style scoped>\n    .dataframe tbody tr th:only-of-type {\n        vertical-align: middle;\n    }\n\n    .dataframe tbody tr th {\n        vertical-align: top;\n    }\n\n    .dataframe thead th {\n        text-align: right;\n    }\n</style>\n<table border=\"1\" class=\"dataframe\">\n  <thead>\n    <tr style=\"text-align: right;\">\n      <th></th>\n      <th>CreditScore</th>\n      <th>Gender</th>\n      <th>Age</th>\n      <th>Tenure</th>\n      <th>Balance</th>\n      <th>NumOfProducts</th>\n      <th>HasCrCard</th>\n      <th>IsActiveMember</th>\n      <th>EstimatedSalary</th>\n      <th>SatisfactionScore</th>\n      <th>CardType</th>\n      <th>PointEarned</th>\n    </tr>\n  </thead>\n  <tbody>\n    <tr>\n      <th>0</th>\n      <td>619</td>\n      <td>Female</td>\n      <td>42</td>\n      <td>2</td>\n      <td>0.00</td>\n      <td>1</td>\n      <td>1</td>\n      <td>1</td>\n      <td>101348.88</td>\n      <td>2</td>\n      <td>DIAMOND</td>\n      <td>464</td>\n    </tr>\n    <tr>\n      <th>1</th>\n      <td>608</td>\n      <td>Female</td>\n      <td>41</td>\n      <td>1</td>\n      <td>83807.86</td>\n      <td>1</td>\n      <td>0</td>\n      <td>1</td>\n      <td>112542.58</td>\n      <td>3</td>\n      <td>DIAMOND</td>\n      <td>456</td>\n    </tr>\n    <tr>\n      <th>2</th>\n      <td>502</td>\n      <td>Female</td>\n      <td>42</td>\n      <td>8</td>\n      <td>159660.80</td>\n      <td>3</td>\n      <td>1</td>\n      <td>0</td>\n      <td>113931.57</td>\n      <td>3</td>\n      <td>DIAMOND</td>\n      <td>377</td>\n    </tr>\n    <tr>\n      <th>3</th>\n      <td>699</td>\n      <td>Female</td>\n      <td>39</td>\n      <td>1</td>\n      <td>0.00</td>\n      <td>2</td>\n      <td>0</td>\n      <td>0</td>\n      <td>93826.63</td>\n      <td>5</td>\n      <td>GOLD</td>\n      <td>350</td>\n    </tr>\n    <tr>\n      <th>4</th>\n      <td>850</td>\n      <td>Female</td>\n      <td>43</td>\n      <td>2</td>\n      <td>125510.82</td>\n      <td>1</td>\n      <td>1</td>\n      <td>1</td>\n      <td>79084.10</td>\n      <td>5</td>\n      <td>GOLD</td>\n      <td>425</td>\n    </tr>\n  </tbody>\n</table>\n</div>"
     },
     "execution_count": 7,
     "metadata": {},
     "output_type": "execute_result"
    }
   ],
   "source": [
    "df_with_only_features.head()"
   ],
   "metadata": {
    "collapsed": false,
    "ExecuteTime": {
     "end_time": "2024-01-12T17:51:45.382758Z",
     "start_time": "2024-01-12T17:51:45.378049Z"
    }
   }
  },
  {
   "cell_type": "code",
   "execution_count": 16,
   "outputs": [],
   "source": [
    "for i in range(10):\n",
    "    df_sample_1 = df_with_only_features.sample(100)\n",
    "    df_sample_1.to_csv(f'../data/customers_file_{i+1}.csv', index=False)"
   ],
   "metadata": {
    "collapsed": false,
    "ExecuteTime": {
     "end_time": "2024-01-11T15:39:30.264290Z",
     "start_time": "2024-01-11T15:39:30.253421Z"
    }
   }
  },
  {
   "cell_type": "code",
   "execution_count": 9,
   "outputs": [
    {
     "data": {
      "text/plain": "   CreditScore  Gender  Age  Tenure    Balance  NumOfProducts  HasCrCard  \\\n0          584    Male   31       5       0.00              2          1   \n1          850  Female   28       9       0.00              2          1   \n2          629  Female   37      10   99546.25              3          0   \n3          623    Male   42       1  149332.48              2          1   \n4          618    Male   42       8  153572.31              2          1   \n5          587  Female   39       6  101851.80              2          1   \n6          568    Male   28       5  145105.64              2          1   \n7          850  Female   27       8  111837.78              2          1   \n8          723    Male   30       3  124119.54              1          1   \n9          429    Male   24       4   95741.75              1          1   \n\n   IsActiveMember  EstimatedSalary  SatisfactionScore  CardType  PointEarned  \n0               0         31474.27                  2  PLATINUM          568  \n1               1        164864.67                  4      GOLD          891  \n2               1         25136.95                  1  PLATINUM          878  \n3               0        100834.22                  4   DIAMOND          320  \n4               1         76679.60                  3   DIAMOND          594  \n5               0          7103.71                  2   DIAMOND          659  \n6               0        185489.11                  5      GOLD          975  \n7               1        110805.79                  1      GOLD          521  \n8               0        162198.32                  4  PLATINUM          945  \n9               0         46170.75                  2      GOLD          352  ",
      "text/html": "<div>\n<style scoped>\n    .dataframe tbody tr th:only-of-type {\n        vertical-align: middle;\n    }\n\n    .dataframe tbody tr th {\n        vertical-align: top;\n    }\n\n    .dataframe thead th {\n        text-align: right;\n    }\n</style>\n<table border=\"1\" class=\"dataframe\">\n  <thead>\n    <tr style=\"text-align: right;\">\n      <th></th>\n      <th>CreditScore</th>\n      <th>Gender</th>\n      <th>Age</th>\n      <th>Tenure</th>\n      <th>Balance</th>\n      <th>NumOfProducts</th>\n      <th>HasCrCard</th>\n      <th>IsActiveMember</th>\n      <th>EstimatedSalary</th>\n      <th>SatisfactionScore</th>\n      <th>CardType</th>\n      <th>PointEarned</th>\n    </tr>\n  </thead>\n  <tbody>\n    <tr>\n      <th>0</th>\n      <td>584</td>\n      <td>Male</td>\n      <td>31</td>\n      <td>5</td>\n      <td>0.00</td>\n      <td>2</td>\n      <td>1</td>\n      <td>0</td>\n      <td>31474.27</td>\n      <td>2</td>\n      <td>PLATINUM</td>\n      <td>568</td>\n    </tr>\n    <tr>\n      <th>1</th>\n      <td>850</td>\n      <td>Female</td>\n      <td>28</td>\n      <td>9</td>\n      <td>0.00</td>\n      <td>2</td>\n      <td>1</td>\n      <td>1</td>\n      <td>164864.67</td>\n      <td>4</td>\n      <td>GOLD</td>\n      <td>891</td>\n    </tr>\n    <tr>\n      <th>2</th>\n      <td>629</td>\n      <td>Female</td>\n      <td>37</td>\n      <td>10</td>\n      <td>99546.25</td>\n      <td>3</td>\n      <td>0</td>\n      <td>1</td>\n      <td>25136.95</td>\n      <td>1</td>\n      <td>PLATINUM</td>\n      <td>878</td>\n    </tr>\n    <tr>\n      <th>3</th>\n      <td>623</td>\n      <td>Male</td>\n      <td>42</td>\n      <td>1</td>\n      <td>149332.48</td>\n      <td>2</td>\n      <td>1</td>\n      <td>0</td>\n      <td>100834.22</td>\n      <td>4</td>\n      <td>DIAMOND</td>\n      <td>320</td>\n    </tr>\n    <tr>\n      <th>4</th>\n      <td>618</td>\n      <td>Male</td>\n      <td>42</td>\n      <td>8</td>\n      <td>153572.31</td>\n      <td>2</td>\n      <td>1</td>\n      <td>1</td>\n      <td>76679.60</td>\n      <td>3</td>\n      <td>DIAMOND</td>\n      <td>594</td>\n    </tr>\n    <tr>\n      <th>5</th>\n      <td>587</td>\n      <td>Female</td>\n      <td>39</td>\n      <td>6</td>\n      <td>101851.80</td>\n      <td>2</td>\n      <td>1</td>\n      <td>0</td>\n      <td>7103.71</td>\n      <td>2</td>\n      <td>DIAMOND</td>\n      <td>659</td>\n    </tr>\n    <tr>\n      <th>6</th>\n      <td>568</td>\n      <td>Male</td>\n      <td>28</td>\n      <td>5</td>\n      <td>145105.64</td>\n      <td>2</td>\n      <td>1</td>\n      <td>0</td>\n      <td>185489.11</td>\n      <td>5</td>\n      <td>GOLD</td>\n      <td>975</td>\n    </tr>\n    <tr>\n      <th>7</th>\n      <td>850</td>\n      <td>Female</td>\n      <td>27</td>\n      <td>8</td>\n      <td>111837.78</td>\n      <td>2</td>\n      <td>1</td>\n      <td>1</td>\n      <td>110805.79</td>\n      <td>1</td>\n      <td>GOLD</td>\n      <td>521</td>\n    </tr>\n    <tr>\n      <th>8</th>\n      <td>723</td>\n      <td>Male</td>\n      <td>30</td>\n      <td>3</td>\n      <td>124119.54</td>\n      <td>1</td>\n      <td>1</td>\n      <td>0</td>\n      <td>162198.32</td>\n      <td>4</td>\n      <td>PLATINUM</td>\n      <td>945</td>\n    </tr>\n    <tr>\n      <th>9</th>\n      <td>429</td>\n      <td>Male</td>\n      <td>24</td>\n      <td>4</td>\n      <td>95741.75</td>\n      <td>1</td>\n      <td>1</td>\n      <td>0</td>\n      <td>46170.75</td>\n      <td>2</td>\n      <td>GOLD</td>\n      <td>352</td>\n    </tr>\n  </tbody>\n</table>\n</div>"
     },
     "execution_count": 9,
     "metadata": {},
     "output_type": "execute_result"
    }
   ],
   "source": [
    "test_file = pd.read_csv(\"../data/Folder A/customers_file_1.csv\")\n",
    "test_file.head(10)"
   ],
   "metadata": {
    "collapsed": false,
    "ExecuteTime": {
     "end_time": "2024-01-09T13:29:00.791684Z",
     "start_time": "2024-01-09T13:29:00.771033Z"
    }
   }
  },
  {
   "cell_type": "code",
   "execution_count": null,
   "outputs": [],
   "source": [
    "def split_csv(input_file, output_folder, chunk_size=10):\n",
    "\n",
    "    # Read the input CSV file\n",
    "    df = pd.read_csv(input_file)\n",
    "    df_final = df.drop(columns = [\"RowNumber\", \"CustomerId\", \"Geography\", \"Surname\", \"Complain\", \"Exited\"], axis =1)\n",
    "\n",
    "    # Calculate the number of chunks\n",
    "    num_chunks = len(df_final) // chunk_size + (1 if len(df) % chunk_size else 0)\n",
    "\n",
    "    # Split and save the chunks\n",
    "    for i in range(num_chunks):\n",
    "        chunk = df_final[i * chunk_size:(i + 1) * chunk_size]\n",
    "        chunk.to_csv(f\"{output_folder}/chunk_{i+1}.csv\", index=False)\n",
    "\n",
    "# Replace with your file paths\n",
    "split_csv(\"./customer_churn_records.csv\", \"../files\")"
   ],
   "metadata": {
    "collapsed": false
   }
  },
  {
   "cell_type": "code",
   "execution_count": 16,
   "outputs": [
    {
     "name": "stderr",
     "output_type": "stream",
     "text": [
      "/var/folders/nx/nd5hy9z92p18k3jpbyyqw3m80000gn/T/ipykernel_84827/1003651039.py:16: FutureWarning: Setting an item of incompatible dtype is deprecated and will raise in a future error of pandas. Value 'They' has dtype incompatible with float64, please explicitly cast to a compatible dtype first.\n",
      "  chunk.iloc[random_row, random_col] = error_value\n",
      "/var/folders/nx/nd5hy9z92p18k3jpbyyqw3m80000gn/T/ipykernel_84827/1003651039.py:16: FutureWarning: Setting an item of incompatible dtype is deprecated and will raise in a future error of pandas. Value 'Diamond' has dtype incompatible with int64, please explicitly cast to a compatible dtype first.\n",
      "  chunk.iloc[random_row, random_col] = error_value\n",
      "/var/folders/nx/nd5hy9z92p18k3jpbyyqw3m80000gn/T/ipykernel_84827/1003651039.py:16: FutureWarning: Setting an item of incompatible dtype is deprecated and will raise in a future error of pandas. Value 'SHIT' has dtype incompatible with int64, please explicitly cast to a compatible dtype first.\n",
      "  chunk.iloc[random_row, random_col] = error_value\n",
      "/var/folders/nx/nd5hy9z92p18k3jpbyyqw3m80000gn/T/ipykernel_84827/1003651039.py:16: FutureWarning: Setting an item of incompatible dtype is deprecated and will raise in a future error of pandas. Value 'null' has dtype incompatible with int64, please explicitly cast to a compatible dtype first.\n",
      "  chunk.iloc[random_row, random_col] = error_value\n",
      "/var/folders/nx/nd5hy9z92p18k3jpbyyqw3m80000gn/T/ipykernel_84827/1003651039.py:16: FutureWarning: Setting an item of incompatible dtype is deprecated and will raise in a future error of pandas. Value 'Diamond' has dtype incompatible with float64, please explicitly cast to a compatible dtype first.\n",
      "  chunk.iloc[random_row, random_col] = error_value\n",
      "/var/folders/nx/nd5hy9z92p18k3jpbyyqw3m80000gn/T/ipykernel_84827/1003651039.py:16: FutureWarning: Setting an item of incompatible dtype is deprecated and will raise in a future error of pandas. Value 'They' has dtype incompatible with int64, please explicitly cast to a compatible dtype first.\n",
      "  chunk.iloc[random_row, random_col] = error_value\n",
      "/var/folders/nx/nd5hy9z92p18k3jpbyyqw3m80000gn/T/ipykernel_84827/1003651039.py:16: FutureWarning: Setting an item of incompatible dtype is deprecated and will raise in a future error of pandas. Value 'SHIT' has dtype incompatible with float64, please explicitly cast to a compatible dtype first.\n",
      "  chunk.iloc[random_row, random_col] = error_value\n",
      "/var/folders/nx/nd5hy9z92p18k3jpbyyqw3m80000gn/T/ipykernel_84827/1003651039.py:16: FutureWarning: Setting an item of incompatible dtype is deprecated and will raise in a future error of pandas. Value 'null' has dtype incompatible with float64, please explicitly cast to a compatible dtype first.\n",
      "  chunk.iloc[random_row, random_col] = error_value\n"
     ]
    }
   ],
   "source": [
    "def split_csv(df, output_folder, chunk_size=10):\n",
    "\n",
    "    # Calculate the number of chunks\n",
    "    num_chunks = len(df) // chunk_size + (1 if len(df) % chunk_size else 0)\n",
    "\n",
    "    # Split and save the chunks, adding random errors to every second file\n",
    "    for i in range(num_chunks):\n",
    "        chunk = df[i * chunk_size:(i + 1) * chunk_size]\n",
    "\n",
    "        # Add an error to every second file\n",
    "        if i % 2 == 1:\n",
    "            random_row = random.randint(0, chunk.shape[0] - 1)\n",
    "            random_col = random.randint(0, chunk.shape[1] - 1)\n",
    "            # Select a random error value\n",
    "            error_value = random.choice([-9, 'null', 'Diamond', \"They\", -10000, \"SHIT\"])\n",
    "            chunk.iloc[random_row, random_col] = error_value\n",
    "\n",
    "        chunk.to_csv(f\"{output_folder}/customers_file_{i+1}.csv\", index=False)\n",
    "\n",
    "\n",
    "split_csv(df_with_only_features, \"../dsp-finalproject/data/Folder A\")"
   ],
   "metadata": {
    "collapsed": false,
    "ExecuteTime": {
     "end_time": "2024-01-12T22:18:18.621450Z",
     "start_time": "2024-01-12T22:18:17.496458Z"
    }
   }
  }
 ],
 "metadata": {
  "kernelspec": {
   "display_name": "Python 3",
   "language": "python",
   "name": "python3"
  },
  "language_info": {
   "codemirror_mode": {
    "name": "ipython",
    "version": 2
   },
   "file_extension": ".py",
   "mimetype": "text/x-python",
   "name": "python",
   "nbconvert_exporter": "python",
   "pygments_lexer": "ipython2",
   "version": "2.7.6"
  }
 },
 "nbformat": 4,
 "nbformat_minor": 0
}
